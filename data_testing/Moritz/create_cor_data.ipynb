{
 "cells": [
  {
   "cell_type": "code",
   "execution_count": 1,
   "metadata": {},
   "outputs": [],
   "source": [
    "import pandas as pd\n",
    "import numpy as np\n",
    "import datetime\n",
    "from datetime import timedelta\n",
    "import sys\n",
    "sys.path.append('../../')\n",
    "from data.api_calls import import_hypercell_raw"
   ]
  },
  {
   "cell_type": "markdown",
   "metadata": {},
   "source": [
    "Read data from 8-9pm for the range 15.07.19-15.09.19"
   ]
  },
  {
   "cell_type": "code",
   "execution_count": null,
   "metadata": {},
   "outputs": [
    {
     "name": "stdout",
     "output_type": "stream",
     "text": [
      "Done with time frame2019-07-15 20:00:00 - 2019-07-15 20:15:00\n",
      "Done with time frame2019-07-15 20:15:00 - 2019-07-15 20:30:00\n",
      "Done with time frame2019-07-15 20:30:00 - 2019-07-15 20:45:00\n",
      "Done with time frame2019-07-15 20:45:00 - 2019-07-15 21:00:00\n",
      "Done with downloading data!\n",
      "Done with time frame2019-07-16 20:00:00 - 2019-07-16 20:15:00\n",
      "Done with time frame2019-07-16 20:15:00 - 2019-07-16 20:30:00\n",
      "Done with time frame2019-07-16 20:30:00 - 2019-07-16 20:45:00\n",
      "Done with time frame2019-07-16 20:45:00 - 2019-07-16 21:00:00\n",
      "Done with downloading data!\n",
      "Done with time frame2019-07-17 20:00:00 - 2019-07-17 20:15:00\n",
      "Done with time frame2019-07-17 20:15:00 - 2019-07-17 20:30:00\n",
      "Done with time frame2019-07-17 20:30:00 - 2019-07-17 20:45:00\n",
      "Done with time frame2019-07-17 20:45:00 - 2019-07-17 21:00:00\n",
      "Done with downloading data!\n",
      "Done with time frame2019-07-18 20:00:00 - 2019-07-18 20:15:00\n",
      "Done with time frame2019-07-18 20:15:00 - 2019-07-18 20:30:00\n",
      "Done with time frame2019-07-18 20:30:00 - 2019-07-18 20:45:00\n",
      "Done with time frame2019-07-18 20:45:00 - 2019-07-18 21:00:00\n",
      "Done with downloading data!\n",
      "Done with time frame2019-07-19 20:00:00 - 2019-07-19 20:15:00\n",
      "Done with time frame2019-07-19 20:15:00 - 2019-07-19 20:30:00\n",
      "Done with time frame2019-07-19 20:30:00 - 2019-07-19 20:45:00\n",
      "Done with time frame2019-07-19 20:45:00 - 2019-07-19 21:00:00\n",
      "Done with downloading data!\n",
      "Done with time frame2019-07-20 20:00:00 - 2019-07-20 20:15:00\n",
      "Done with time frame2019-07-20 20:15:00 - 2019-07-20 20:30:00\n",
      "Done with time frame2019-07-20 20:30:00 - 2019-07-20 20:45:00\n",
      "Done with time frame2019-07-20 20:45:00 - 2019-07-20 21:00:00\n",
      "Done with downloading data!\n",
      "Done with time frame2019-07-21 20:00:00 - 2019-07-21 20:15:00\n",
      "Done with time frame2019-07-21 20:15:00 - 2019-07-21 20:30:00\n",
      "Done with time frame2019-07-21 20:30:00 - 2019-07-21 20:45:00\n",
      "Done with time frame2019-07-21 20:45:00 - 2019-07-21 21:00:00\n",
      "Done with downloading data!\n",
      "Done with time frame2019-07-22 20:00:00 - 2019-07-22 20:15:00\n",
      "Done with time frame2019-07-22 20:15:00 - 2019-07-22 20:30:00\n",
      "Done with time frame2019-07-22 20:30:00 - 2019-07-22 20:45:00\n",
      "Done with time frame2019-07-22 20:45:00 - 2019-07-22 21:00:00\n",
      "Done with downloading data!\n",
      "Done with time frame2019-07-23 20:00:00 - 2019-07-23 20:15:00\n",
      "Done with time frame2019-07-23 20:15:00 - 2019-07-23 20:30:00\n",
      "Done with time frame2019-07-23 20:30:00 - 2019-07-23 20:45:00\n",
      "Done with time frame2019-07-23 20:45:00 - 2019-07-23 21:00:00\n",
      "Done with downloading data!\n",
      "Done with time frame2019-07-24 20:00:00 - 2019-07-24 20:15:00\n",
      "Done with time frame2019-07-24 20:15:00 - 2019-07-24 20:30:00\n",
      "Done with time frame2019-07-24 20:30:00 - 2019-07-24 20:45:00\n",
      "Done with time frame2019-07-24 20:45:00 - 2019-07-24 21:00:00\n",
      "Done with downloading data!\n",
      "Done with time frame2019-07-25 20:00:00 - 2019-07-25 20:15:00\n",
      "Done with time frame2019-07-25 20:15:00 - 2019-07-25 20:30:00\n",
      "Done with time frame2019-07-25 20:30:00 - 2019-07-25 20:45:00\n",
      "Done with time frame2019-07-25 20:45:00 - 2019-07-25 21:00:00\n",
      "Done with downloading data!\n",
      "Done with time frame2019-07-26 20:00:00 - 2019-07-26 20:15:00\n",
      "Done with time frame2019-07-26 20:15:00 - 2019-07-26 20:30:00\n"
     ]
    }
   ],
   "source": [
    "start = datetime.datetime(year = 2019, month=7, day=15, hour = 20, minute=0)\n",
    "end = datetime.datetime(year = 2019, month=7, day=15, hour = 21, minute=0)\n",
    "dfs = []\n",
    "for i in range(62):\n",
    "    data = import_hypercell_raw(start, end)\n",
    "    # Increase by one day:\n",
    "    start = start + timedelta(days=1)\n",
    "    end = end + timedelta(days=1)\n",
    "    # Save raw data:\n",
    "    filename = \"raw_hypercell_20-21_\" + str(i)\n",
    "    data.to_pickle(filename)\n",
    "    # Aggregate:\n",
    "    data.drop_duplicates(subset = [\"hash\", \"serial\"], inplace=True)\n",
    "    agg_data = data.groupby(by = [\"serial\"]).count()\n",
    "    agg_data = agg_data.transpose()\n",
    "    agg_data.reset_index(inplace=True, drop = True)\n",
    "    agg_data = agg_data.loc[0]\n",
    "    dfs.append(agg_data)\n",
    "df = pd.concat(dfs, axis=1, sort=True).T\n",
    "df = df.reset_index(drop = True)"
   ]
  },
  {
   "cell_type": "code",
   "execution_count": null,
   "metadata": {},
   "outputs": [],
   "source": []
  }
 ],
 "metadata": {
  "kernelspec": {
   "display_name": "Python 3",
   "language": "python",
   "name": "python3"
  },
  "language_info": {
   "codemirror_mode": {
    "name": "ipython",
    "version": 3
   },
   "file_extension": ".py",
   "mimetype": "text/x-python",
   "name": "python",
   "nbconvert_exporter": "python",
   "pygments_lexer": "ipython3",
   "version": "3.7.5"
  }
 },
 "nbformat": 4,
 "nbformat_minor": 2
}
