{
 "cells": [
  {
   "cell_type": "code",
   "execution_count": 1,
   "metadata": {},
   "outputs": [],
   "source": [
    "import pandas as pd"
   ]
  },
  {
   "cell_type": "code",
   "execution_count": 2,
   "metadata": {},
   "outputs": [],
   "source": [
    "import numpy as np"
   ]
  },
  {
   "cell_type": "code",
   "execution_count": 3,
   "metadata": {},
   "outputs": [],
   "source": [
    "df_stations = pd.read_json(\"../Andres/stations.json\")"
   ]
  },
  {
   "cell_type": "code",
   "execution_count": 4,
   "metadata": {},
   "outputs": [
    {
     "data": {
      "text/plain": [
       "['0000000006dd41f6',\n",
       " '000000000f4919c9',\n",
       " '0000000019fb59c4',\n",
       " '00000000342570c2',\n",
       " '0000000038bf9618',\n",
       " '0000000038d83d41',\n",
       " '000000004ef3150d',\n",
       " '0000000053c6c2be',\n",
       " '00000000675d5200',\n",
       " '000000006b087f40',\n",
       " '000000006b44cce7',\n",
       " '0000000074f765a7',\n",
       " '000000007b5207b6',\n",
       " '0000000096918cfa',\n",
       " '00000000a53ed894',\n",
       " '00000000aa852af1',\n",
       " '00000000afef4555',\n",
       " '00000000b33a8357',\n",
       " '00000000cd16b8ef',\n",
       " '00000000d747f075',\n",
       " '00000000e8a064a4',\n",
       " '00000000f1124bca',\n",
       " '00000000fb7600be',\n",
       " '00000000fdda10fe',\n",
       " '00000000fffb8cf0']"
      ]
     },
     "execution_count": 4,
     "metadata": {},
     "output_type": "execute_result"
    }
   ],
   "source": [
    "for k  in df_stations[\"list\"][0].keys():\n",
    "    \n",
    "    df_stations[k] = df_stations[\"list\"].apply( lambda x : x[k] )\n",
    "df_stations = df_stations.drop( [\"list\"] , axis = 1 )\n",
    "\n",
    "#df_stations = df_stations[ df_stations[\"description\"] != \"Hakaniemen kauppahalli 1\" ]\n",
    "serial2name = dict()\n",
    "name2pos = dict( )\n",
    "for x , y  in df_stations.iterrows():\n",
    "    serial2name[ y[\"serial\"]] = y[\"description\"]\n",
    "    name2pos[ y[\"description\"] ] = ( y[\"latitude\"] , y[\"longitude\"] )\n",
    "serials = [k for k, v in serial2name.items()]\n",
    "serials"
   ]
  },
  {
   "cell_type": "code",
   "execution_count": null,
   "metadata": {},
   "outputs": [
    {
     "name": "stdout",
     "output_type": "stream",
     "text": [
      "Day 0 is being computed!\n",
      "Day 1 is being computed!\n",
      "Day 2 is being computed!\n",
      "Day 3 is being computed!\n",
      "Day 4 is being computed!\n",
      "Day 5 is being computed!\n",
      "Day 6 is being computed!\n",
      "Day 7 is being computed!\n",
      "Day 8 is being computed!\n",
      "Day 9 is being computed!\n",
      "Day 10 is being computed!\n",
      "Day 11 is being computed!\n",
      "Day 12 is being computed!\n",
      "Day 13 is being computed!\n",
      "Day 14 is being computed!\n",
      "Day 15 is being computed!\n",
      "Day 16 is being computed!\n",
      "Day 17 is being computed!\n",
      "Day 18 is being computed!\n",
      "Day 19 is being computed!\n"
     ]
    }
   ],
   "source": [
    "adj_mat = pd.DataFrame(data = 0, index=serials, columns = serials)\n",
    "num_days = 63\n",
    "\n",
    "for i in range(num_days):\n",
    "    print(\"Day \" + str(i) + \" is being computed!\")\n",
    "    df = pd.read_pickle(\"raw_hypercell_20-21_\" + str(i))\n",
    "    df = df.drop(columns = [\"distance\", \"time\"])\n",
    "    df = df.drop_duplicates()\n",
    "    df = df.groupby(\"hash\", as_index = False).agg(list)\n",
    "    df[\"count\"] = df[\"serial\"].apply(len)\n",
    "    df = df[df[\"count\"] > 1]\n",
    "    df.reset_index(inplace=True, drop=True)\n",
    "\n",
    "    for i in range(len(df)):\n",
    "        row = df.loc[i]\n",
    "        if row[\"count\"] > 2:\n",
    "            df.drop(index=i, inplace=True)\n",
    "            l = row[\"serial\"]\n",
    "            pairs = list(zip(l[::], l[1::]))\n",
    "            for pair in pairs:\n",
    "                new_row = pd.DataFrame(data = {\"hash\" :row[\"hash\"], \"serial\" : [list(pair)], \"count\" : 2 })\n",
    "                df = df.append(new_row, sort=True)\n",
    "\n",
    "    df.reset_index(inplace=True, drop=True)\n",
    "    \n",
    "    for i, x in df.iterrows():\n",
    "        start_station = x[\"serial\"][0]\n",
    "        stop_station = x[\"serial\"][1]\n",
    "        adj_mat.at[str(start_station), str(stop_station)] = adj_mat[str(start_station)][str(stop_station)] + 1\n",
    "    \n",
    "adj_mat = adj_mat/num_days"
   ]
  },
  {
   "cell_type": "code",
   "execution_count": null,
   "metadata": {},
   "outputs": [],
   "source": []
  }
 ],
 "metadata": {
  "kernelspec": {
   "display_name": "Python 3",
   "language": "python",
   "name": "python3"
  },
  "language_info": {
   "codemirror_mode": {
    "name": "ipython",
    "version": 3
   },
   "file_extension": ".py",
   "mimetype": "text/x-python",
   "name": "python",
   "nbconvert_exporter": "python",
   "pygments_lexer": "ipython3",
   "version": "3.7.5"
  }
 },
 "nbformat": 4,
 "nbformat_minor": 2
}
