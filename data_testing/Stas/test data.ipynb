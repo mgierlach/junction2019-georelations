{
 "cells": [
  {
   "cell_type": "code",
   "execution_count": 6,
   "metadata": {},
   "outputs": [],
   "source": [
    "import sys\n",
    "sys.path.append('../../') # (adjust this to the folder level the file is in)\n",
    "from data.api_calls import import_hypercell_raw\n",
    "from datetime import datetime"
   ]
  },
  {
   "cell_type": "code",
   "execution_count": 7,
   "metadata": {},
   "outputs": [],
   "source": [
    "start = datetime( year = 2019 , month = 7 , day = 15 , hour = 8 , minute = 0 )\n",
    "end = datetime(year = 2019, month=7, day=15, hour=9, minute=0)"
   ]
  },
  {
   "cell_type": "code",
   "execution_count": 8,
   "metadata": {},
   "outputs": [
    {
     "name": "stdout",
     "output_type": "stream",
     "text": [
      "Done with time frame2019-07-15 08:00:00 - 2019-07-15 08:15:00\n",
      "Done with time frame2019-07-15 08:15:00 - 2019-07-15 08:30:00\n",
      "Done with time frame2019-07-15 08:30:00 - 2019-07-15 08:45:00\n",
      "Done with time frame2019-07-15 08:45:00 - 2019-07-15 09:00:00\n",
      "Done with downloading data!\n"
     ]
    }
   ],
   "source": [
    "df = import_hypercell_raw(start, end)"
   ]
  },
  {
   "cell_type": "code",
   "execution_count": null,
   "metadata": {},
   "outputs": [],
   "source": [
    "from pandas import DataFrame"
   ]
  },
  {
   "cell_type": "code",
   "execution_count": 10,
   "metadata": {},
   "outputs": [],
   "source": [
    "export_csv = df.to_csv (r'15_07_19_08_09_raw.csv', index = None, header=True)"
   ]
  },
  {
   "cell_type": "code",
   "execution_count": 11,
   "metadata": {},
   "outputs": [
    {
     "data": {
      "text/html": [
       "<div>\n",
       "<style scoped>\n",
       "    .dataframe tbody tr th:only-of-type {\n",
       "        vertical-align: middle;\n",
       "    }\n",
       "\n",
       "    .dataframe tbody tr th {\n",
       "        vertical-align: top;\n",
       "    }\n",
       "\n",
       "    .dataframe thead th {\n",
       "        text-align: right;\n",
       "    }\n",
       "</style>\n",
       "<table border=\"1\" class=\"dataframe\">\n",
       "  <thead>\n",
       "    <tr style=\"text-align: right;\">\n",
       "      <th></th>\n",
       "      <th>time</th>\n",
       "      <th>hash</th>\n",
       "      <th>serial</th>\n",
       "      <th>distance</th>\n",
       "    </tr>\n",
       "  </thead>\n",
       "  <tbody>\n",
       "    <tr>\n",
       "      <th>0</th>\n",
       "      <td>2019-07-15T08:00:00Z</td>\n",
       "      <td>00ee706dc7c6a9c4c7a04e55c949cacf5a2f1e1511cdd5...</td>\n",
       "      <td>00000000342570c2</td>\n",
       "      <td>8.38</td>\n",
       "    </tr>\n",
       "    <tr>\n",
       "      <th>1</th>\n",
       "      <td>2019-07-15T08:00:00Z</td>\n",
       "      <td>087cf89af39e4da9b47dfc35ad0f8302f3911ff0e86dea...</td>\n",
       "      <td>0000000006dd41f6</td>\n",
       "      <td>18.79</td>\n",
       "    </tr>\n",
       "    <tr>\n",
       "      <th>2</th>\n",
       "      <td>2019-07-15T08:00:00Z</td>\n",
       "      <td>0a0e68a51d30ad29a0c92f8ec755a5ad26e62ac638dd84...</td>\n",
       "      <td>000000007b5207b6</td>\n",
       "      <td>11.70</td>\n",
       "    </tr>\n",
       "    <tr>\n",
       "      <th>3</th>\n",
       "      <td>2019-07-15T08:00:00Z</td>\n",
       "      <td>11e5d0cbaa86f72095a4529503ee9912e0ba7fad58b137...</td>\n",
       "      <td>00000000aa852af1</td>\n",
       "      <td>18.79</td>\n",
       "    </tr>\n",
       "    <tr>\n",
       "      <th>4</th>\n",
       "      <td>2019-07-15T08:00:00Z</td>\n",
       "      <td>15918569de0a46a8eb56b43d8d39f7fc82619ff1006f00...</td>\n",
       "      <td>00000000675d5200</td>\n",
       "      <td>4.11</td>\n",
       "    </tr>\n",
       "  </tbody>\n",
       "</table>\n",
       "</div>"
      ],
      "text/plain": [
       "                   time                                               hash  \\\n",
       "0  2019-07-15T08:00:00Z  00ee706dc7c6a9c4c7a04e55c949cacf5a2f1e1511cdd5...   \n",
       "1  2019-07-15T08:00:00Z  087cf89af39e4da9b47dfc35ad0f8302f3911ff0e86dea...   \n",
       "2  2019-07-15T08:00:00Z  0a0e68a51d30ad29a0c92f8ec755a5ad26e62ac638dd84...   \n",
       "3  2019-07-15T08:00:00Z  11e5d0cbaa86f72095a4529503ee9912e0ba7fad58b137...   \n",
       "4  2019-07-15T08:00:00Z  15918569de0a46a8eb56b43d8d39f7fc82619ff1006f00...   \n",
       "\n",
       "             serial  distance  \n",
       "0  00000000342570c2      8.38  \n",
       "1  0000000006dd41f6     18.79  \n",
       "2  000000007b5207b6     11.70  \n",
       "3  00000000aa852af1     18.79  \n",
       "4  00000000675d5200      4.11  "
      ]
     },
     "execution_count": 11,
     "metadata": {},
     "output_type": "execute_result"
    }
   ],
   "source": [
    "df.head()"
   ]
  },
  {
   "cell_type": "code",
   "execution_count": 62,
   "metadata": {},
   "outputs": [],
   "source": [
    "du = df['hash'].nunique()"
   ]
  },
  {
   "cell_type": "code",
   "execution_count": 66,
   "metadata": {},
   "outputs": [
    {
     "name": "stdout",
     "output_type": "stream",
     "text": [
      "(1620079, 4)\n"
     ]
    }
   ],
   "source": [
    "print(df.shape)"
   ]
  },
  {
   "cell_type": "code",
   "execution_count": 73,
   "metadata": {},
   "outputs": [
    {
     "name": "stdout",
     "output_type": "stream",
     "text": [
      "12194\n"
     ]
    }
   ],
   "source": [
    "print(df['hash'].nunique())"
   ]
  },
  {
   "cell_type": "code",
   "execution_count": 82,
   "metadata": {},
   "outputs": [],
   "source": [
    "du = df.drop_duplicates(['serial', 'hash'])"
   ]
  },
  {
   "cell_type": "code",
   "execution_count": 83,
   "metadata": {},
   "outputs": [
    {
     "name": "stdout",
     "output_type": "stream",
     "text": [
      "(16260, 4)\n"
     ]
    }
   ],
   "source": [
    "print(du.shape)"
   ]
  },
  {
   "cell_type": "code",
   "execution_count": 84,
   "metadata": {},
   "outputs": [
    {
     "data": {
      "text/html": [
       "<div>\n",
       "<style scoped>\n",
       "    .dataframe tbody tr th:only-of-type {\n",
       "        vertical-align: middle;\n",
       "    }\n",
       "\n",
       "    .dataframe tbody tr th {\n",
       "        vertical-align: top;\n",
       "    }\n",
       "\n",
       "    .dataframe thead th {\n",
       "        text-align: right;\n",
       "    }\n",
       "</style>\n",
       "<table border=\"1\" class=\"dataframe\">\n",
       "  <thead>\n",
       "    <tr style=\"text-align: right;\">\n",
       "      <th></th>\n",
       "      <th>time</th>\n",
       "      <th>hash</th>\n",
       "      <th>serial</th>\n",
       "      <th>distance</th>\n",
       "    </tr>\n",
       "  </thead>\n",
       "  <tbody>\n",
       "    <tr>\n",
       "      <th>0</th>\n",
       "      <td>2019-07-15T08:00:00Z</td>\n",
       "      <td>00ee706dc7c6a9c4c7a04e55c949cacf5a2f1e1511cdd5...</td>\n",
       "      <td>00000000342570c2</td>\n",
       "      <td>8.38</td>\n",
       "    </tr>\n",
       "    <tr>\n",
       "      <th>1</th>\n",
       "      <td>2019-07-15T08:00:00Z</td>\n",
       "      <td>087cf89af39e4da9b47dfc35ad0f8302f3911ff0e86dea...</td>\n",
       "      <td>0000000006dd41f6</td>\n",
       "      <td>18.79</td>\n",
       "    </tr>\n",
       "    <tr>\n",
       "      <th>2</th>\n",
       "      <td>2019-07-15T08:00:00Z</td>\n",
       "      <td>0a0e68a51d30ad29a0c92f8ec755a5ad26e62ac638dd84...</td>\n",
       "      <td>000000007b5207b6</td>\n",
       "      <td>11.70</td>\n",
       "    </tr>\n",
       "    <tr>\n",
       "      <th>3</th>\n",
       "      <td>2019-07-15T08:00:00Z</td>\n",
       "      <td>11e5d0cbaa86f72095a4529503ee9912e0ba7fad58b137...</td>\n",
       "      <td>00000000aa852af1</td>\n",
       "      <td>18.79</td>\n",
       "    </tr>\n",
       "    <tr>\n",
       "      <th>4</th>\n",
       "      <td>2019-07-15T08:00:00Z</td>\n",
       "      <td>15918569de0a46a8eb56b43d8d39f7fc82619ff1006f00...</td>\n",
       "      <td>00000000675d5200</td>\n",
       "      <td>4.11</td>\n",
       "    </tr>\n",
       "  </tbody>\n",
       "</table>\n",
       "</div>"
      ],
      "text/plain": [
       "                   time                                               hash  \\\n",
       "0  2019-07-15T08:00:00Z  00ee706dc7c6a9c4c7a04e55c949cacf5a2f1e1511cdd5...   \n",
       "1  2019-07-15T08:00:00Z  087cf89af39e4da9b47dfc35ad0f8302f3911ff0e86dea...   \n",
       "2  2019-07-15T08:00:00Z  0a0e68a51d30ad29a0c92f8ec755a5ad26e62ac638dd84...   \n",
       "3  2019-07-15T08:00:00Z  11e5d0cbaa86f72095a4529503ee9912e0ba7fad58b137...   \n",
       "4  2019-07-15T08:00:00Z  15918569de0a46a8eb56b43d8d39f7fc82619ff1006f00...   \n",
       "\n",
       "             serial  distance  \n",
       "0  00000000342570c2      8.38  \n",
       "1  0000000006dd41f6     18.79  \n",
       "2  000000007b5207b6     11.70  \n",
       "3  00000000aa852af1     18.79  \n",
       "4  00000000675d5200      4.11  "
      ]
     },
     "execution_count": 84,
     "metadata": {},
     "output_type": "execute_result"
    }
   ],
   "source": [
    "du.head()"
   ]
  },
  {
   "cell_type": "code",
   "execution_count": 85,
   "metadata": {},
   "outputs": [
    {
     "name": "stdout",
     "output_type": "stream",
     "text": [
      "12194\n"
     ]
    }
   ],
   "source": [
    "print(du['hash'].nunique())"
   ]
  },
  {
   "cell_type": "code",
   "execution_count": 92,
   "metadata": {},
   "outputs": [],
   "source": [
    "moves_group_hash = du.groupby(['hash'])"
   ]
  },
  {
   "cell_type": "code",
   "execution_count": 93,
   "metadata": {},
   "outputs": [
    {
     "data": {
      "text/html": [
       "<div>\n",
       "<style scoped>\n",
       "    .dataframe tbody tr th:only-of-type {\n",
       "        vertical-align: middle;\n",
       "    }\n",
       "\n",
       "    .dataframe tbody tr th {\n",
       "        vertical-align: top;\n",
       "    }\n",
       "\n",
       "    .dataframe thead th {\n",
       "        text-align: right;\n",
       "    }\n",
       "</style>\n",
       "<table border=\"1\" class=\"dataframe\">\n",
       "  <thead>\n",
       "    <tr style=\"text-align: right;\">\n",
       "      <th></th>\n",
       "      <th>time</th>\n",
       "      <th>hash</th>\n",
       "      <th>serial</th>\n",
       "      <th>distance</th>\n",
       "    </tr>\n",
       "  </thead>\n",
       "  <tbody>\n",
       "    <tr>\n",
       "      <th>0</th>\n",
       "      <td>2019-07-15T08:00:00Z</td>\n",
       "      <td>00ee706dc7c6a9c4c7a04e55c949cacf5a2f1e1511cdd5...</td>\n",
       "      <td>00000000342570c2</td>\n",
       "      <td>8.38</td>\n",
       "    </tr>\n",
       "    <tr>\n",
       "      <th>1</th>\n",
       "      <td>2019-07-15T08:00:00Z</td>\n",
       "      <td>087cf89af39e4da9b47dfc35ad0f8302f3911ff0e86dea...</td>\n",
       "      <td>0000000006dd41f6</td>\n",
       "      <td>18.79</td>\n",
       "    </tr>\n",
       "    <tr>\n",
       "      <th>2</th>\n",
       "      <td>2019-07-15T08:00:00Z</td>\n",
       "      <td>0a0e68a51d30ad29a0c92f8ec755a5ad26e62ac638dd84...</td>\n",
       "      <td>000000007b5207b6</td>\n",
       "      <td>11.70</td>\n",
       "    </tr>\n",
       "    <tr>\n",
       "      <th>3</th>\n",
       "      <td>2019-07-15T08:00:00Z</td>\n",
       "      <td>11e5d0cbaa86f72095a4529503ee9912e0ba7fad58b137...</td>\n",
       "      <td>00000000aa852af1</td>\n",
       "      <td>18.79</td>\n",
       "    </tr>\n",
       "    <tr>\n",
       "      <th>4</th>\n",
       "      <td>2019-07-15T08:00:00Z</td>\n",
       "      <td>15918569de0a46a8eb56b43d8d39f7fc82619ff1006f00...</td>\n",
       "      <td>00000000675d5200</td>\n",
       "      <td>4.11</td>\n",
       "    </tr>\n",
       "    <tr>\n",
       "      <th>...</th>\n",
       "      <td>...</td>\n",
       "      <td>...</td>\n",
       "      <td>...</td>\n",
       "      <td>...</td>\n",
       "    </tr>\n",
       "    <tr>\n",
       "      <th>1619737</th>\n",
       "      <td>2019-07-15T08:59:57Z</td>\n",
       "      <td>5912ac53d306043c5259264392a5fe984e1811d7883d24...</td>\n",
       "      <td>00000000aa852af1</td>\n",
       "      <td>13.75</td>\n",
       "    </tr>\n",
       "    <tr>\n",
       "      <th>1619751</th>\n",
       "      <td>2019-07-15T08:59:57Z</td>\n",
       "      <td>7bc36bf8453fd9f9995e5f56c72c6d9de5e3d7a254fa71...</td>\n",
       "      <td>0000000096918cfa</td>\n",
       "      <td>27.28</td>\n",
       "    </tr>\n",
       "    <tr>\n",
       "      <th>1619894</th>\n",
       "      <td>2019-07-15T08:59:58Z</td>\n",
       "      <td>fe8cb223e632b236393ac824d3aa81b9fec769285fdcb9...</td>\n",
       "      <td>0000000006dd41f6</td>\n",
       "      <td>23.56</td>\n",
       "    </tr>\n",
       "    <tr>\n",
       "      <th>1619953</th>\n",
       "      <td>2019-07-15T08:59:59Z</td>\n",
       "      <td>7db7c5dd3c4f1e32ea5dfdf74a9d36fe8b5339a732b038...</td>\n",
       "      <td>00000000d747f075</td>\n",
       "      <td>18.79</td>\n",
       "    </tr>\n",
       "    <tr>\n",
       "      <th>1620046</th>\n",
       "      <td>2019-07-15T09:00:00Z</td>\n",
       "      <td>8422816521c26f5ffd0567e3c070716e8b81e05ede68d1...</td>\n",
       "      <td>0000000006dd41f6</td>\n",
       "      <td>17.40</td>\n",
       "    </tr>\n",
       "  </tbody>\n",
       "</table>\n",
       "<p>16249 rows × 4 columns</p>\n",
       "</div>"
      ],
      "text/plain": [
       "                         time  \\\n",
       "0        2019-07-15T08:00:00Z   \n",
       "1        2019-07-15T08:00:00Z   \n",
       "2        2019-07-15T08:00:00Z   \n",
       "3        2019-07-15T08:00:00Z   \n",
       "4        2019-07-15T08:00:00Z   \n",
       "...                       ...   \n",
       "1619737  2019-07-15T08:59:57Z   \n",
       "1619751  2019-07-15T08:59:57Z   \n",
       "1619894  2019-07-15T08:59:58Z   \n",
       "1619953  2019-07-15T08:59:59Z   \n",
       "1620046  2019-07-15T09:00:00Z   \n",
       "\n",
       "                                                      hash            serial  \\\n",
       "0        00ee706dc7c6a9c4c7a04e55c949cacf5a2f1e1511cdd5...  00000000342570c2   \n",
       "1        087cf89af39e4da9b47dfc35ad0f8302f3911ff0e86dea...  0000000006dd41f6   \n",
       "2        0a0e68a51d30ad29a0c92f8ec755a5ad26e62ac638dd84...  000000007b5207b6   \n",
       "3        11e5d0cbaa86f72095a4529503ee9912e0ba7fad58b137...  00000000aa852af1   \n",
       "4        15918569de0a46a8eb56b43d8d39f7fc82619ff1006f00...  00000000675d5200   \n",
       "...                                                    ...               ...   \n",
       "1619737  5912ac53d306043c5259264392a5fe984e1811d7883d24...  00000000aa852af1   \n",
       "1619751  7bc36bf8453fd9f9995e5f56c72c6d9de5e3d7a254fa71...  0000000096918cfa   \n",
       "1619894  fe8cb223e632b236393ac824d3aa81b9fec769285fdcb9...  0000000006dd41f6   \n",
       "1619953  7db7c5dd3c4f1e32ea5dfdf74a9d36fe8b5339a732b038...  00000000d747f075   \n",
       "1620046  8422816521c26f5ffd0567e3c070716e8b81e05ede68d1...  0000000006dd41f6   \n",
       "\n",
       "         distance  \n",
       "0            8.38  \n",
       "1           18.79  \n",
       "2           11.70  \n",
       "3           18.79  \n",
       "4            4.11  \n",
       "...           ...  \n",
       "1619737     13.75  \n",
       "1619751     27.28  \n",
       "1619894     23.56  \n",
       "1619953     18.79  \n",
       "1620046     17.40  \n",
       "\n",
       "[16249 rows x 4 columns]"
      ]
     },
     "execution_count": 93,
     "metadata": {},
     "output_type": "execute_result"
    }
   ],
   "source": [
    "moves_group_hash.head()"
   ]
  },
  {
   "cell_type": "code",
   "execution_count": null,
   "metadata": {},
   "outputs": [],
   "source": []
  }
 ],
 "metadata": {
  "kernelspec": {
   "display_name": "Python 3",
   "language": "python",
   "name": "python3"
  },
  "language_info": {
   "codemirror_mode": {
    "name": "ipython",
    "version": 3
   },
   "file_extension": ".py",
   "mimetype": "text/x-python",
   "name": "python",
   "nbconvert_exporter": "python",
   "pygments_lexer": "ipython3",
   "version": "3.7.4"
  }
 },
 "nbformat": 4,
 "nbformat_minor": 2
}
